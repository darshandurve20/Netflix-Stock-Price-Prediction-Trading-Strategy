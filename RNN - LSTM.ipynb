{
 "cells": [
  {
   "cell_type": "markdown",
   "metadata": {},
   "source": [
    "## Importing the packages"
   ]
  },
  {
   "cell_type": "code",
   "execution_count": 93,
   "metadata": {},
   "outputs": [],
   "source": [
    "import numpy as np\n",
    "import pandas as pd\n",
    "from scipy.optimize import minimize\n",
    "from pandas_datareader import DataReader\n",
    "from datetime import datetime\n",
    "from matplotlib import pyplot as plt\n",
    "from scipy import stats\n",
    "from sklearn.metrics import r2_score, mean_squared_error\n",
    "from sklearn.preprocessing import MinMaxScaler\n",
    "import math"
   ]
  },
  {
   "cell_type": "code",
   "execution_count": 42,
   "metadata": {},
   "outputs": [],
   "source": [
    "from tensorflow.keras.models import Sequential\n",
    "from tensorflow.keras.layers import Dense\n",
    "from tensorflow.keras.layers import LSTM\n",
    "from tensorflow.keras.layers import Dropout"
   ]
  },
  {
   "cell_type": "markdown",
   "metadata": {},
   "source": [
    "### Training data taken from years 2014 to 2018"
   ]
  },
  {
   "cell_type": "code",
   "execution_count": 70,
   "metadata": {},
   "outputs": [],
   "source": [
    "NFLX = DataReader('NFLX',  'yahoo', datetime(2014,1,1), datetime(2018,12,31));"
   ]
  },
  {
   "cell_type": "code",
   "execution_count": 72,
   "metadata": {},
   "outputs": [
    {
     "data": {
      "text/html": [
       "<div>\n",
       "<style scoped>\n",
       "    .dataframe tbody tr th:only-of-type {\n",
       "        vertical-align: middle;\n",
       "    }\n",
       "\n",
       "    .dataframe tbody tr th {\n",
       "        vertical-align: top;\n",
       "    }\n",
       "\n",
       "    .dataframe thead th {\n",
       "        text-align: right;\n",
       "    }\n",
       "</style>\n",
       "<table border=\"1\" class=\"dataframe\">\n",
       "  <thead>\n",
       "    <tr style=\"text-align: right;\">\n",
       "      <th></th>\n",
       "      <th>High</th>\n",
       "      <th>Low</th>\n",
       "      <th>Open</th>\n",
       "      <th>Close</th>\n",
       "      <th>Volume</th>\n",
       "      <th>Adj Close</th>\n",
       "    </tr>\n",
       "    <tr>\n",
       "      <th>Date</th>\n",
       "      <th></th>\n",
       "      <th></th>\n",
       "      <th></th>\n",
       "      <th></th>\n",
       "      <th></th>\n",
       "      <th></th>\n",
       "    </tr>\n",
       "  </thead>\n",
       "  <tbody>\n",
       "    <tr>\n",
       "      <th>2014-01-02</th>\n",
       "      <td>52.511429</td>\n",
       "      <td>51.542858</td>\n",
       "      <td>52.401428</td>\n",
       "      <td>51.831429</td>\n",
       "      <td>12325600.0</td>\n",
       "      <td>51.831429</td>\n",
       "    </tr>\n",
       "    <tr>\n",
       "      <th>2014-01-03</th>\n",
       "      <td>52.495716</td>\n",
       "      <td>51.842857</td>\n",
       "      <td>52.000000</td>\n",
       "      <td>51.871429</td>\n",
       "      <td>10817100.0</td>\n",
       "      <td>51.871429</td>\n",
       "    </tr>\n",
       "    <tr>\n",
       "      <th>2014-01-06</th>\n",
       "      <td>52.044285</td>\n",
       "      <td>50.475716</td>\n",
       "      <td>51.889999</td>\n",
       "      <td>51.367142</td>\n",
       "      <td>15501500.0</td>\n",
       "      <td>51.367142</td>\n",
       "    </tr>\n",
       "    <tr>\n",
       "      <th>2014-01-07</th>\n",
       "      <td>49.698570</td>\n",
       "      <td>48.152859</td>\n",
       "      <td>49.684284</td>\n",
       "      <td>48.500000</td>\n",
       "      <td>36167600.0</td>\n",
       "      <td>48.500000</td>\n",
       "    </tr>\n",
       "    <tr>\n",
       "      <th>2014-01-08</th>\n",
       "      <td>49.425713</td>\n",
       "      <td>48.074287</td>\n",
       "      <td>48.104286</td>\n",
       "      <td>48.712856</td>\n",
       "      <td>20001100.0</td>\n",
       "      <td>48.712856</td>\n",
       "    </tr>\n",
       "  </tbody>\n",
       "</table>\n",
       "</div>"
      ],
      "text/plain": [
       "                 High        Low       Open      Close      Volume  Adj Close\n",
       "Date                                                                         \n",
       "2014-01-02  52.511429  51.542858  52.401428  51.831429  12325600.0  51.831429\n",
       "2014-01-03  52.495716  51.842857  52.000000  51.871429  10817100.0  51.871429\n",
       "2014-01-06  52.044285  50.475716  51.889999  51.367142  15501500.0  51.367142\n",
       "2014-01-07  49.698570  48.152859  49.684284  48.500000  36167600.0  48.500000\n",
       "2014-01-08  49.425713  48.074287  48.104286  48.712856  20001100.0  48.712856"
      ]
     },
     "execution_count": 72,
     "metadata": {},
     "output_type": "execute_result"
    }
   ],
   "source": [
    "NFLX.head()"
   ]
  },
  {
   "cell_type": "markdown",
   "metadata": {},
   "source": [
    "### Populating the data"
   ]
  },
  {
   "cell_type": "code",
   "execution_count": 73,
   "metadata": {},
   "outputs": [],
   "source": [
    "#taking the 'Open' column\n",
    "train_set = NFLX.iloc[:,2:3].values\n",
    "\n",
    "#feature scaling\n",
    "sc = MinMaxScaler(feature_range = (0, 1))\n",
    "training_set_scaled = sc.fit_transform(train_set)\n",
    "\n",
    "#creating a data structure with 60 timesteps and 1 output\n",
    "X_train = []\n",
    "y_train = []\n",
    "for i in range(60, 1258):\n",
    "    X_train.append(training_set_scaled[i-60:i, 0])\n",
    "    y_train.append(training_set_scaled[i, 0]) \n",
    "X_train, y_train = np.array(X_train), np.array(y_train)\n",
    "\n",
    "#Reshaping\n",
    "X_train = np.reshape(X_train, (X_train.shape[0], X_train.shape[1], 1))"
   ]
  },
  {
   "cell_type": "code",
   "execution_count": 74,
   "metadata": {},
   "outputs": [
    {
     "data": {
      "text/plain": [
       "(1198, 60, 1)"
      ]
     },
     "execution_count": 74,
     "metadata": {},
     "output_type": "execute_result"
    }
   ],
   "source": [
    "X_train.shape"
   ]
  },
  {
   "cell_type": "markdown",
   "metadata": {},
   "source": [
    "### Building the network"
   ]
  },
  {
   "cell_type": "code",
   "execution_count": 75,
   "metadata": {},
   "outputs": [],
   "source": [
    "#Initializing the RNN\n",
    "regressor = Sequential()"
   ]
  },
  {
   "cell_type": "code",
   "execution_count": 76,
   "metadata": {},
   "outputs": [],
   "source": [
    "#Adding the first LSTM layer and some dropout regularization\n",
    "regressor.add(LSTM(units = 50, return_sequences = True, input_shape = (X_train.shape[1], 1)))\n",
    "regressor.add(Dropout(0.2))"
   ]
  },
  {
   "cell_type": "code",
   "execution_count": 77,
   "metadata": {},
   "outputs": [],
   "source": [
    "#Adding a second LSTM layer and some dropout regularization\n",
    "regressor.add(LSTM(units = 50, return_sequences = True))\n",
    "regressor.add(Dropout(0.2))"
   ]
  },
  {
   "cell_type": "code",
   "execution_count": 78,
   "metadata": {},
   "outputs": [],
   "source": [
    "#Adding a third LSTM layer and some dropout regularization\n",
    "regressor.add(LSTM(units = 50, return_sequences = True))\n",
    "regressor.add(Dropout(0.2))"
   ]
  },
  {
   "cell_type": "code",
   "execution_count": 79,
   "metadata": {},
   "outputs": [],
   "source": [
    "#Adding a fourth LSTM layer and some dropout regularization\n",
    "regressor.add(LSTM(units = 50))\n",
    "regressor.add(Dropout(0.2))"
   ]
  },
  {
   "cell_type": "code",
   "execution_count": 80,
   "metadata": {},
   "outputs": [],
   "source": [
    "#Adding the output layer\n",
    "regressor.add(Dense(units = 1))"
   ]
  },
  {
   "cell_type": "code",
   "execution_count": 81,
   "metadata": {},
   "outputs": [],
   "source": [
    "#Compliling the RNN\n",
    "regressor.compile(optimizer = 'adam', loss = 'mean_squared_error')"
   ]
  },
  {
   "cell_type": "code",
   "execution_count": 82,
   "metadata": {},
   "outputs": [
    {
     "name": "stdout",
     "output_type": "stream",
     "text": [
      "Epoch 1/100\n",
      "1198/1198 [==============================] - 9s 8ms/sample - loss: 0.0282 0s - loss: 0.02\n",
      "Epoch 2/100\n",
      "1198/1198 [==============================] - 6s 5ms/sample - loss: 0.0035\n",
      "Epoch 3/100\n",
      "1198/1198 [==============================] - 10s 8ms/sample - loss: 0.0033\n",
      "Epoch 4/100\n",
      "1198/1198 [==============================] - 8s 7ms/sample - loss: 0.0034\n",
      "Epoch 5/100\n",
      "1198/1198 [==============================] - 8s 7ms/sample - loss: 0.0028\n",
      "Epoch 6/100\n",
      "1198/1198 [==============================] - 8s 7ms/sample - loss: 0.0031\n",
      "Epoch 7/100\n",
      "1198/1198 [==============================] - 8s 6ms/sample - loss: 0.0033\n",
      "Epoch 8/100\n",
      "1198/1198 [==============================] - 9s 7ms/sample - loss: 0.0025\n",
      "Epoch 9/100\n",
      "1198/1198 [==============================] - 8s 7ms/sample - loss: 0.0024\n",
      "Epoch 10/100\n",
      "1198/1198 [==============================] - 7s 6ms/sample - loss: 0.0022\n",
      "Epoch 11/100\n",
      "1198/1198 [==============================] - 9s 7ms/sample - loss: 0.0024\n",
      "Epoch 12/100\n",
      "1198/1198 [==============================] - 7s 6ms/sample - loss: 0.0029\n",
      "Epoch 13/100\n",
      "1198/1198 [==============================] - 7s 6ms/sample - loss: 0.0024\n",
      "Epoch 14/100\n",
      "1198/1198 [==============================] - 7s 6ms/sample - loss: 0.0020\n",
      "Epoch 15/100\n",
      "1198/1198 [==============================] - 7s 6ms/sample - loss: 0.0022\n",
      "Epoch 16/100\n",
      "1198/1198 [==============================] - 7s 6ms/sample - loss: 0.0019\n",
      "Epoch 17/100\n",
      "1198/1198 [==============================] - 7s 6ms/sample - loss: 0.0023\n",
      "Epoch 18/100\n",
      "1198/1198 [==============================] - 8s 7ms/sample - loss: 0.0022\n",
      "Epoch 19/100\n",
      "1198/1198 [==============================] - 8s 6ms/sample - loss: 0.0023 0s - loss: 0\n",
      "Epoch 20/100\n",
      "1198/1198 [==============================] - 9s 8ms/sample - loss: 0.0021\n",
      "Epoch 21/100\n",
      "1198/1198 [==============================] - 7s 6ms/sample - loss: 0.0020\n",
      "Epoch 22/100\n",
      "1198/1198 [==============================] - 8s 7ms/sample - loss: 0.0025\n",
      "Epoch 23/100\n",
      "1198/1198 [==============================] - 10s 8ms/sample - loss: 0.0024\n",
      "Epoch 24/100\n",
      "1198/1198 [==============================] - 9s 7ms/sample - loss: 0.0020\n",
      "Epoch 25/100\n",
      "1198/1198 [==============================] - 8s 6ms/sample - loss: 0.0019 1s - loss:\n",
      "Epoch 26/100\n",
      "1198/1198 [==============================] - 7s 6ms/sample - loss: 0.0018 1s - lo\n",
      "Epoch 27/100\n",
      "1198/1198 [==============================] - 7s 6ms/sample - loss: 0.0019\n",
      "Epoch 28/100\n",
      "1198/1198 [==============================] - 9s 7ms/sample - loss: 0.0018\n",
      "Epoch 29/100\n",
      "1198/1198 [==============================] - 8s 7ms/sample - loss: 0.0019\n",
      "Epoch 30/100\n",
      "1198/1198 [==============================] - 9s 7ms/sample - loss: 0.0020\n",
      "Epoch 31/100\n",
      "1198/1198 [==============================] - 7s 6ms/sample - loss: 0.0020\n",
      "Epoch 32/100\n",
      "1198/1198 [==============================] - 6s 5ms/sample - loss: 0.0017\n",
      "Epoch 33/100\n",
      "1198/1198 [==============================] - 6s 5ms/sample - loss: 0.0020\n",
      "Epoch 34/100\n",
      "1198/1198 [==============================] - 6s 5ms/sample - loss: 0.0018\n",
      "Epoch 35/100\n",
      "1198/1198 [==============================] - 6s 5ms/sample - loss: 0.0017 1s - l\n",
      "Epoch 36/100\n",
      "1198/1198 [==============================] - 6s 5ms/sample - loss: 0.0016 4s - ETA: 2s -\n",
      "Epoch 37/100\n",
      "1198/1198 [==============================] - 7s 6ms/sample - loss: 0.0017\n",
      "Epoch 38/100\n",
      "1198/1198 [==============================] - 7s 6ms/sample - loss: 0.0016\n",
      "Epoch 39/100\n",
      "1198/1198 [==============================] - 6s 5ms/sample - loss: 0.0017\n",
      "Epoch 40/100\n",
      "1198/1198 [==============================] - 6s 5ms/sample - loss: 0.0018\n",
      "Epoch 41/100\n",
      "1198/1198 [==============================] - 6s 5ms/sample - loss: 0.0013\n",
      "Epoch 42/100\n",
      "1198/1198 [==============================] - 6s 5ms/sample - loss: 0.0015\n",
      "Epoch 43/100\n",
      "1198/1198 [==============================] - 6s 5ms/sample - loss: 0.0016\n",
      "Epoch 44/100\n",
      "1198/1198 [==============================] - 6s 5ms/sample - loss: 0.0017\n",
      "Epoch 45/100\n",
      "1198/1198 [==============================] - 6s 5ms/sample - loss: 0.0017\n",
      "Epoch 46/100\n",
      "1198/1198 [==============================] - 7s 6ms/sample - loss: 0.0016\n",
      "Epoch 47/100\n",
      "1198/1198 [==============================] - 8s 6ms/sample - loss: 0.0018 1s - lo\n",
      "Epoch 48/100\n",
      "1198/1198 [==============================] - 7s 6ms/sample - loss: 0.0013 2s - \n",
      "Epoch 49/100\n",
      "1198/1198 [==============================] - 7s 6ms/sample - loss: 0.0016\n",
      "Epoch 50/100\n",
      "1198/1198 [==============================] - 7s 6ms/sample - loss: 0.0016\n",
      "Epoch 51/100\n",
      "1198/1198 [==============================] - 7s 5ms/sample - loss: 0.0015\n",
      "Epoch 52/100\n",
      "1198/1198 [==============================] - 6s 5ms/sample - loss: 0.0016\n",
      "Epoch 53/100\n",
      "1198/1198 [==============================] - 6s 5ms/sample - loss: 0.0015\n",
      "Epoch 54/100\n",
      "1198/1198 [==============================] - 7s 6ms/sample - loss: 0.0013\n",
      "Epoch 55/100\n",
      "1198/1198 [==============================] - 7s 6ms/sample - loss: 0.0014\n",
      "Epoch 56/100\n",
      "1198/1198 [==============================] - 7s 6ms/sample - loss: 0.0017 2s - loss: - ETA: 1s - loss\n",
      "Epoch 57/100\n",
      "1198/1198 [==============================] - 7s 6ms/sample - loss: 0.0015\n",
      "Epoch 58/100\n",
      "1198/1198 [==============================] - 7s 6ms/sample - loss: 0.0014\n",
      "Epoch 59/100\n",
      "1198/1198 [==============================] - 7s 6ms/sample - loss: 0.0014\n",
      "Epoch 60/100\n",
      "1198/1198 [==============================] - 6s 5ms/sample - loss: 0.0013\n",
      "Epoch 61/100\n",
      "1198/1198 [==============================] - 7s 5ms/sample - loss: 0.0017\n",
      "Epoch 62/100\n",
      "1198/1198 [==============================] - 6s 5ms/sample - loss: 0.0019\n",
      "Epoch 63/100\n",
      "1198/1198 [==============================] - 7s 6ms/sample - loss: 0.0018 0s - loss: 0\n",
      "Epoch 64/100\n",
      "1198/1198 [==============================] - 7s 6ms/sample - loss: 0.0015\n",
      "Epoch 65/100\n",
      "1198/1198 [==============================] - 7s 6ms/sample - loss: 0.0014\n",
      "Epoch 66/100\n",
      "1198/1198 [==============================] - 7s 6ms/sample - loss: 0.0014\n",
      "Epoch 67/100\n",
      "1198/1198 [==============================] - 7s 6ms/sample - loss: 0.0013\n",
      "Epoch 68/100\n",
      "1198/1198 [==============================] - 7s 5ms/sample - loss: 0.0012\n",
      "Epoch 69/100\n",
      "1198/1198 [==============================] - 7s 6ms/sample - loss: 0.0013\n",
      "Epoch 70/100\n",
      "1198/1198 [==============================] - 6s 5ms/sample - loss: 0.0012\n",
      "Epoch 71/100\n",
      "1198/1198 [==============================] - 6s 5ms/sample - loss: 0.0012\n",
      "Epoch 72/100\n",
      "1198/1198 [==============================] - 7s 6ms/sample - loss: 0.0012\n",
      "Epoch 73/100\n",
      "1198/1198 [==============================] - 7s 6ms/sample - loss: 0.0016\n",
      "Epoch 74/100\n",
      "1198/1198 [==============================] - 6s 5ms/sample - loss: 0.0012\n",
      "Epoch 75/100\n",
      "1198/1198 [==============================] - 6s 5ms/sample - loss: 0.0013\n",
      "Epoch 76/100\n",
      "1198/1198 [==============================] - 7s 6ms/sample - loss: 0.0011\n",
      "Epoch 77/100\n",
      "1198/1198 [==============================] - 7s 6ms/sample - loss: 0.0014\n",
      "Epoch 78/100\n",
      "1198/1198 [==============================] - 6s 5ms/sample - loss: 0.0011\n",
      "Epoch 79/100\n",
      "1198/1198 [==============================] - 6s 5ms/sample - loss: 0.0012\n",
      "Epoch 80/100\n",
      "1198/1198 [==============================] - 7s 6ms/sample - loss: 0.0011\n",
      "Epoch 81/100\n",
      "1198/1198 [==============================] - 6s 5ms/sample - loss: 0.0010\n",
      "Epoch 82/100\n",
      "1198/1198 [==============================] - 6s 5ms/sample - loss: 0.0011\n",
      "Epoch 83/100\n",
      "1198/1198 [==============================] - 6s 5ms/sample - loss: 0.0014\n",
      "Epoch 84/100\n",
      "1198/1198 [==============================] - 7s 6ms/sample - loss: 0.0010\n",
      "Epoch 85/100\n",
      "1198/1198 [==============================] - 7s 6ms/sample - loss: 0.0011\n",
      "Epoch 86/100\n",
      "1198/1198 [==============================] - 7s 6ms/sample - loss: 0.0012\n",
      "Epoch 87/100\n",
      "1198/1198 [==============================] - 7s 6ms/sample - loss: 0.0012\n",
      "Epoch 88/100\n",
      "1198/1198 [==============================] - 6s 5ms/sample - loss: 0.0011\n",
      "Epoch 89/100\n",
      "1198/1198 [==============================] - 6s 5ms/sample - loss: 0.0010 0s - loss: 0.0\n",
      "Epoch 90/100\n",
      "1198/1198 [==============================] - 7s 6ms/sample - loss: 0.0010\n",
      "Epoch 91/100\n",
      "1198/1198 [==============================] - 7s 6ms/sample - loss: 0.0010\n",
      "Epoch 92/100\n",
      "1198/1198 [==============================] - 8s 6ms/sample - loss: 0.0010\n",
      "Epoch 93/100\n"
     ]
    },
    {
     "name": "stdout",
     "output_type": "stream",
     "text": [
      "1198/1198 [==============================] - 6s 5ms/sample - loss: 0.0012ET\n",
      "Epoch 94/100\n",
      "1198/1198 [==============================] - 7s 6ms/sample - loss: 0.0013\n",
      "Epoch 95/100\n",
      "1198/1198 [==============================] - 7s 5ms/sample - loss: 0.0011\n",
      "Epoch 96/100\n",
      "1198/1198 [==============================] - 7s 6ms/sample - loss: 9.4149e-04\n",
      "Epoch 97/100\n",
      "1198/1198 [==============================] - 8s 6ms/sample - loss: 0.0012 0s - loss: 0\n",
      "Epoch 98/100\n",
      "1198/1198 [==============================] - 6s 5ms/sample - loss: 9.9259e-04 1s - loss\n",
      "Epoch 99/100\n",
      "1198/1198 [==============================] - 7s 5ms/sample - loss: 0.0012\n",
      "Epoch 100/100\n",
      "1198/1198 [==============================] - 7s 5ms/sample - loss: 0.0012\n"
     ]
    },
    {
     "data": {
      "text/plain": [
       "<tensorflow.python.keras.callbacks.History at 0x1bf242277b8>"
      ]
     },
     "execution_count": 82,
     "metadata": {},
     "output_type": "execute_result"
    }
   ],
   "source": [
    "#Fitting the RNN to the training set\n",
    "regressor.fit(X_train, y_train, epochs = 100, batch_size = 32)"
   ]
  },
  {
   "cell_type": "markdown",
   "metadata": {},
   "source": [
    "### Testing the model on the test dataset of Year 2019"
   ]
  },
  {
   "cell_type": "code",
   "execution_count": 83,
   "metadata": {},
   "outputs": [],
   "source": [
    "NFLX_new = DataReader('NFLX',  'yahoo', datetime(2019,1,1), datetime(2019,12,31));"
   ]
  },
  {
   "cell_type": "code",
   "execution_count": 84,
   "metadata": {},
   "outputs": [],
   "source": [
    "real_stock_price = NFLX_new.iloc[:, 2:3].values"
   ]
  },
  {
   "cell_type": "code",
   "execution_count": 85,
   "metadata": {},
   "outputs": [
    {
     "data": {
      "text/html": [
       "<div>\n",
       "<style scoped>\n",
       "    .dataframe tbody tr th:only-of-type {\n",
       "        vertical-align: middle;\n",
       "    }\n",
       "\n",
       "    .dataframe tbody tr th {\n",
       "        vertical-align: top;\n",
       "    }\n",
       "\n",
       "    .dataframe thead th {\n",
       "        text-align: right;\n",
       "    }\n",
       "</style>\n",
       "<table border=\"1\" class=\"dataframe\">\n",
       "  <thead>\n",
       "    <tr style=\"text-align: right;\">\n",
       "      <th></th>\n",
       "      <th>High</th>\n",
       "      <th>Low</th>\n",
       "      <th>Open</th>\n",
       "      <th>Close</th>\n",
       "      <th>Volume</th>\n",
       "      <th>Adj Close</th>\n",
       "    </tr>\n",
       "    <tr>\n",
       "      <th>Date</th>\n",
       "      <th></th>\n",
       "      <th></th>\n",
       "      <th></th>\n",
       "      <th></th>\n",
       "      <th></th>\n",
       "      <th></th>\n",
       "    </tr>\n",
       "  </thead>\n",
       "  <tbody>\n",
       "    <tr>\n",
       "      <th>2019-01-02</th>\n",
       "      <td>269.750000</td>\n",
       "      <td>256.579987</td>\n",
       "      <td>259.279999</td>\n",
       "      <td>267.660004</td>\n",
       "      <td>11679500</td>\n",
       "      <td>267.660004</td>\n",
       "    </tr>\n",
       "    <tr>\n",
       "      <th>2019-01-03</th>\n",
       "      <td>275.790009</td>\n",
       "      <td>264.429993</td>\n",
       "      <td>270.200012</td>\n",
       "      <td>271.200012</td>\n",
       "      <td>14969600</td>\n",
       "      <td>271.200012</td>\n",
       "    </tr>\n",
       "    <tr>\n",
       "      <th>2019-01-04</th>\n",
       "      <td>297.799988</td>\n",
       "      <td>278.540009</td>\n",
       "      <td>281.880005</td>\n",
       "      <td>297.570007</td>\n",
       "      <td>19330100</td>\n",
       "      <td>297.570007</td>\n",
       "    </tr>\n",
       "    <tr>\n",
       "      <th>2019-01-07</th>\n",
       "      <td>316.799988</td>\n",
       "      <td>301.649994</td>\n",
       "      <td>302.100006</td>\n",
       "      <td>315.339996</td>\n",
       "      <td>18620100</td>\n",
       "      <td>315.339996</td>\n",
       "    </tr>\n",
       "    <tr>\n",
       "      <th>2019-01-08</th>\n",
       "      <td>320.589996</td>\n",
       "      <td>308.010010</td>\n",
       "      <td>319.980011</td>\n",
       "      <td>320.269989</td>\n",
       "      <td>15359200</td>\n",
       "      <td>320.269989</td>\n",
       "    </tr>\n",
       "  </tbody>\n",
       "</table>\n",
       "</div>"
      ],
      "text/plain": [
       "                  High         Low        Open       Close    Volume  \\\n",
       "Date                                                                   \n",
       "2019-01-02  269.750000  256.579987  259.279999  267.660004  11679500   \n",
       "2019-01-03  275.790009  264.429993  270.200012  271.200012  14969600   \n",
       "2019-01-04  297.799988  278.540009  281.880005  297.570007  19330100   \n",
       "2019-01-07  316.799988  301.649994  302.100006  315.339996  18620100   \n",
       "2019-01-08  320.589996  308.010010  319.980011  320.269989  15359200   \n",
       "\n",
       "             Adj Close  \n",
       "Date                    \n",
       "2019-01-02  267.660004  \n",
       "2019-01-03  271.200012  \n",
       "2019-01-04  297.570007  \n",
       "2019-01-07  315.339996  \n",
       "2019-01-08  320.269989  "
      ]
     },
     "execution_count": 85,
     "metadata": {},
     "output_type": "execute_result"
    }
   ],
   "source": [
    "NFLX_new.head()"
   ]
  },
  {
   "cell_type": "code",
   "execution_count": 86,
   "metadata": {},
   "outputs": [],
   "source": [
    "dataset_total = pd.concat((NFLX['Open'], NFLX_new['Open']), axis = 0)"
   ]
  },
  {
   "cell_type": "code",
   "execution_count": 87,
   "metadata": {},
   "outputs": [],
   "source": [
    "inputs = dataset_total[len(dataset_total) - len(NFLX_new) - 60:].values"
   ]
  },
  {
   "cell_type": "code",
   "execution_count": 88,
   "metadata": {},
   "outputs": [],
   "source": [
    "inputs = inputs.reshape(-1,1)\n",
    "inputs = sc.transform(inputs)\n",
    "X_test = []\n",
    "for i in range(60, 312):\n",
    "    X_test.append(inputs[i-60:i, 0])\n",
    "X_test = np.array(X_test)\n",
    "X_test = np.reshape(X_test, (X_test.shape[0], X_test.shape[1], 1))"
   ]
  },
  {
   "cell_type": "markdown",
   "metadata": {},
   "source": [
    "### Predicting the test data"
   ]
  },
  {
   "cell_type": "code",
   "execution_count": 89,
   "metadata": {},
   "outputs": [],
   "source": [
    "predicted_stock_price = regressor.predict(X_test)\n",
    "predicted_stock_price = sc.inverse_transform(predicted_stock_price)"
   ]
  },
  {
   "cell_type": "markdown",
   "metadata": {},
   "source": [
    "### Plotting the predictions"
   ]
  },
  {
   "cell_type": "code",
   "execution_count": 90,
   "metadata": {},
   "outputs": [
    {
     "data": {
      "image/png": "[encoded data removed]",
      "text/plain": [
       "<Figure size 1440x720 with 1 Axes>"
      ]
     },
     "metadata": {
      "needs_background": "light"
     },
     "output_type": "display_data"
    }
   ],
   "source": [
    "plt.figure(figsize=(20,10))\n",
    "font = {'weight' : 'normal',\n",
    "        'size'   : 15}\n",
    "\n",
    "plt.rc('font', **font)\n",
    "plt.plot(real_stock_price, color = 'red', label = 'Actual Netflix Stock Price')\n",
    "plt.plot(predicted_stock_price, color = 'blue', label = 'Predicted Netflix Stock Price')\n",
    "plt.title('Netflix Stock Price Prediction')\n",
    "plt.xlabel('Time')\n",
    "plt.ylabel('Netflix Stock Price')\n",
    "plt.legend()\n",
    "plt.show()"
   ]
  },
  {
   "cell_type": "markdown",
   "metadata": {},
   "source": [
    "## Evaluating the model"
   ]
  },
  {
   "cell_type": "code",
   "execution_count": 103,
   "metadata": {},
   "outputs": [],
   "source": [
    "rmse = math.sqrt(mean_squared_error(real_stock_price, predicted_stock_price))\n",
    "mape = mean_absolute_percentage_error(real_stock_price, predicted_stock_price)\n",
    "r2 = r2_score(real_stock_price, predicted_stock_price)"
   ]
  },
  {
   "cell_type": "code",
   "execution_count": 101,
   "metadata": {},
   "outputs": [],
   "source": [
    "def mean_absolute_percentage_error(y_true, y_pred): \n",
    "    y_true, y_pred = np.array(y_true), np.array(y_pred)\n",
    "    return np.mean(np.abs((y_true - y_pred) / y_true)) * 100"
   ]
  },
  {
   "cell_type": "code",
   "execution_count": 104,
   "metadata": {},
   "outputs": [
    {
     "name": "stdout",
     "output_type": "stream",
     "text": [
      "rmse:11.085776026396147 mape:2.70651401248984 r2:0.8982437056999801\n"
     ]
    }
   ],
   "source": [
    "print('rmse:{} mape:{} r2:{}'.format(rmse,mape,r2))"
   ]
  }
 ],
 "metadata": {
  "kernelspec": {
   "display_name": "Python 3",
   "language": "python",
   "name": "python3"
  },
  "language_info": {
   "codemirror_mode": {
    "name": "ipython",
    "version": 3
   },
   "file_extension": ".py",
   "mimetype": "text/x-python",
   "name": "python",
   "nbconvert_exporter": "python",
   "pygments_lexer": "ipython3",
   "version": "3.7.3"
  }
 },
 "nbformat": 4,
 "nbformat_minor": 2
}
